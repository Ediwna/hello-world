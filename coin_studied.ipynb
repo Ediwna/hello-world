{
  "nbformat": 4,
  "nbformat_minor": 0,
  "metadata": {
    "colab": {
      "name": "coin-studied.ipynb",
      "provenance": [],
      "authorship_tag": "ABX9TyPBD8KCCxBGVgB5IgG11jz6",
      "include_colab_link": true
    },
    "kernelspec": {
      "name": "python3",
      "display_name": "Python 3"
    }
  },
  "cells": [
    {
      "cell_type": "markdown",
      "metadata": {
        "id": "view-in-github",
        "colab_type": "text"
      },
      "source": [
        "<a href=\"https://colab.research.google.com/github/Ediwna/hello-world/blob/master/coin_studied.ipynb\" target=\"_parent\"><img src=\"https://colab.research.google.com/assets/colab-badge.svg\" alt=\"Open In Colab\"/></a>"
      ]
    },
    {
      "cell_type": "code",
      "metadata": {
        "id": "4Sd1Yc0IoT09"
      },
      "source": [
        "!pip install telepot --upgrade\n",
        "!pip install pandas --upgrade\n",
        "!pip install requests --upgrade"
      ],
      "execution_count": null,
      "outputs": []
    },
    {
      "cell_type": "code",
      "metadata": {
        "id": "xGdhkKd86WNw"
      },
      "source": [
        "import telepot\n",
        "import time\n",
        "import requests\n",
        "import pandas as pd\n",
        "from requests.structures import CaseInsensitiveDict\n",
        "from collections import Counter"
      ],
      "execution_count": 35,
      "outputs": []
    },
    {
      "cell_type": "code",
      "metadata": {
        "id": "0xdYu_bE6zu_"
      },
      "source": [
        "def get_price():\n",
        "    ret_dic = dict()\n",
        "    dic = dict()\n",
        "    res = requests.get(\"https://min-api.cryptocompare.com/data/price?fsym=BTC&tsyms=USD,EUR,KRW\")\n",
        "    ret_dic[\"Date\"] = time.strftime(\"%Y-%m-%d-%H:%M\", time.localtime())\n",
        "\n",
        "    if res.status_code == 200:\n",
        "        dic = dict(res.json())\n",
        "        ret_dic[\"BTC-USD\"] = dic.get(\"USD\")\n",
        "        ret_dic[\"BTC-EUR\"] = dic.get(\"EUR\")\n",
        "        ret_dic[\"BTC-KRW\"] = dic.get(\"KRW\")\n",
        "        print(ret_dic)\n",
        "        return ret_dic\n",
        "    else:\n",
        "        return None"
      ],
      "execution_count": 36,
      "outputs": []
    },
    {
      "cell_type": "code",
      "metadata": {
        "id": "lh1xTjoXoe0V",
        "outputId": "bdfd844c-1584-496b-8a79-f011f9b732d9",
        "colab": {
          "base_uri": "https://localhost:8080/",
          "height": 515
        }
      },
      "source": [
        "bot = telepot.Bot(\"1187623080:AAHEBd5s_uOdeQh96C63bvICwLFIuaVq92g\")\n",
        "mc = '1360484259'\n",
        "\n",
        "pre = None\n",
        "while True:\n",
        "    current = get_price() #return current value\n",
        "    if not pre:\n",
        "      pre = current\n",
        "      continue\n",
        "    diff = current['BTC-KRW'] - pre['BTC-KRW']\n",
        "    #df = pd.DataFrame(current), index=[0])\n",
        "    #df.to_csv('price.csv', mode='a', header=False, index=None)\n",
        "    message = 'Bithumb-BTC-KRW:' + str(current['BTC-KRW']) + ', '\n",
        "    message += 'UP: ' + str(diff) \n",
        "    bot.sendMessage(mc, message)\n",
        "    time.sleep(60)"
      ],
      "execution_count": 38,
      "outputs": [
        {
          "output_type": "stream",
          "text": [
            "{'Date': '2020-10-28-10:51', 'BTC-USD': 13608.03, 'BTC-EUR': 11598.42, 'BTC-KRW': 15357907.4}\n",
            "{'Date': '2020-10-28-10:51', 'BTC-USD': 13608.08, 'BTC-EUR': 11598.11, 'BTC-KRW': 15357907.4}\n",
            "{'Date': '2020-10-28-10:52', 'BTC-USD': 13603.95, 'BTC-EUR': 11598.19, 'BTC-KRW': 15356521.88}\n",
            "{'Date': '2020-10-28-10:53', 'BTC-USD': 13601.6, 'BTC-EUR': 11595.3, 'BTC-KRW': 15352064.39}\n",
            "{'Date': '2020-10-28-10:54', 'BTC-USD': 13587.22, 'BTC-EUR': 11585.21, 'BTC-KRW': 15342912.04}\n",
            "{'Date': '2020-10-28-10:55', 'BTC-USD': 13585.33, 'BTC-EUR': 11578.98, 'BTC-KRW': 15339403.63}\n",
            "{'Date': '2020-10-28-10:56', 'BTC-USD': 13584.84, 'BTC-EUR': 11577.02, 'BTC-KRW': 15336686}\n",
            "{'Date': '2020-10-28-10:57', 'BTC-USD': 13580.5, 'BTC-EUR': 11579.56, 'BTC-KRW': 15337945.34}\n",
            "{'Date': '2020-10-28-10:58', 'BTC-USD': 13580.67, 'BTC-EUR': 11582.78, 'BTC-KRW': 15337879.97}\n",
            "{'Date': '2020-10-28-10:59', 'BTC-USD': 13578.02, 'BTC-EUR': 11579.31, 'BTC-KRW': 15330502.09}\n",
            "{'Date': '2020-10-28-11:00', 'BTC-USD': 13577.35, 'BTC-EUR': 11577.81, 'BTC-KRW': 15327117.12}\n",
            "{'Date': '2020-10-28-11:01', 'BTC-USD': 13557.89, 'BTC-EUR': 11560.6, 'BTC-KRW': 15322144.43}\n",
            "{'Date': '2020-10-28-11:02', 'BTC-USD': 13555.67, 'BTC-EUR': 11558.83, 'BTC-KRW': 15316397.08}\n",
            "{'Date': '2020-10-28-11:03', 'BTC-USD': 13557.22, 'BTC-EUR': 11563.4, 'BTC-KRW': 15315797.68}\n",
            "{'Date': '2020-10-28-11:04', 'BTC-USD': 13576.84, 'BTC-EUR': 11576.1, 'BTC-KRW': 15317326.79}\n",
            "{'Date': '2020-10-28-11:05', 'BTC-USD': 13575.54, 'BTC-EUR': 11573.02, 'BTC-KRW': 15323922.36}\n",
            "{'Date': '2020-10-28-11:06', 'BTC-USD': 13551.3, 'BTC-EUR': 11552.86, 'BTC-KRW': 15312745.82}\n"
          ],
          "name": "stdout"
        },
        {
          "output_type": "error",
          "ename": "KeyboardInterrupt",
          "evalue": "ignored",
          "traceback": [
            "\u001b[0;31m---------------------------------------------------------------------------\u001b[0m",
            "\u001b[0;31mKeyboardInterrupt\u001b[0m                         Traceback (most recent call last)",
            "\u001b[0;32m<ipython-input-38-7c4e9b76e8d9>\u001b[0m in \u001b[0;36m<module>\u001b[0;34m()\u001b[0m\n\u001b[1;32m     14\u001b[0m     \u001b[0mmessage\u001b[0m \u001b[0;34m+=\u001b[0m \u001b[0;34m'UP: '\u001b[0m \u001b[0;34m+\u001b[0m \u001b[0mstr\u001b[0m\u001b[0;34m(\u001b[0m\u001b[0mdiff\u001b[0m\u001b[0;34m)\u001b[0m\u001b[0;34m\u001b[0m\u001b[0;34m\u001b[0m\u001b[0m\n\u001b[1;32m     15\u001b[0m     \u001b[0mbot\u001b[0m\u001b[0;34m.\u001b[0m\u001b[0msendMessage\u001b[0m\u001b[0;34m(\u001b[0m\u001b[0mmc\u001b[0m\u001b[0;34m,\u001b[0m \u001b[0mmessage\u001b[0m\u001b[0;34m)\u001b[0m\u001b[0;34m\u001b[0m\u001b[0;34m\u001b[0m\u001b[0m\n\u001b[0;32m---> 16\u001b[0;31m     \u001b[0mtime\u001b[0m\u001b[0;34m.\u001b[0m\u001b[0msleep\u001b[0m\u001b[0;34m(\u001b[0m\u001b[0;36m60\u001b[0m\u001b[0;34m)\u001b[0m\u001b[0;34m\u001b[0m\u001b[0;34m\u001b[0m\u001b[0m\n\u001b[0m",
            "\u001b[0;31mKeyboardInterrupt\u001b[0m: "
          ]
        }
      ]
    },
    {
      "cell_type": "code",
      "metadata": {
        "id": "0pLrt_0mqnbi"
      },
      "source": [
        "#from pprint import pprint\n",
        "#response = bot.getUpdates()\n",
        "#pprint(response)"
      ],
      "execution_count": null,
      "outputs": []
    },
    {
      "cell_type": "code",
      "metadata": {
        "id": "mXNBVmc6rYVb",
        "outputId": "0cd104b1-0451-4957-a359-f4cf5182fef4",
        "colab": {
          "base_uri": "https://localhost:8080/",
          "height": 233
        }
      },
      "source": [
        "variable_name = \"1360484259\"\n",
        "bot.sendMessage(1360484259, \"Hey, this a test2.\")"
      ],
      "execution_count": 40,
      "outputs": [
        {
          "output_type": "execute_result",
          "data": {
            "text/plain": [
              "{'chat': {'first_name': 'Yeol',\n",
              "  'id': 1360484259,\n",
              "  'last_name': 'Yang',\n",
              "  'type': 'private',\n",
              "  'username': 'yeol77'},\n",
              " 'date': 1603869191,\n",
              " 'from': {'first_name': 'yeol',\n",
              "  'id': 1187623080,\n",
              "  'is_bot': True,\n",
              "  'username': 'Yyeol_bot'},\n",
              " 'message_id': 11,\n",
              " 'text': 'Hey, this a test2.'}"
            ]
          },
          "metadata": {
            "tags": []
          },
          "execution_count": 40
        }
      ]
    }
  ]
}